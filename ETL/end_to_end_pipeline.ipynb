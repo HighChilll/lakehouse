{
 "cells": [
  {
   "cell_type": "code",
   "execution_count": null,
   "metadata": {},
   "outputs": [],
   "source": [
    "### Initialize Spark Session\n",
    "import pyspark\n",
    "from pyspark.sql import SparkSession\n",
    "from delta.tables import *\n",
    "S3_ENDPOINT = \"192.168.132.131:9000\"\n",
    "S3_BUCKET = \"sales\"\n",
    "S3_ACCESS_KEY=\"minioadmin\"\n",
    "S3_SECRET_KEY=\"minioadmin\"\n",
    "\n",
    "# This cell may take some time to run the first time, as it must download the necessary spark jars\n",
    "conf = pyspark.SparkConf().setMaster(\"local\")\n",
    "conf.set(\"spark.jars.packages\", 'org.apache.hadoop:hadoop-aws:3.3.1,io.delta:delta-spark_2.12:3.0.0')\\\n",
    "    .set(\"spark.sql.extensions\", \"io.delta.sql.DeltaSparkSessionExtension\")\\\n",
    "    .set(\"spark.sql.catalog.spark_catalog\", \"org.apache.spark.sql.delta.catalog.DeltaCatalog\")\\\n",
    "    .set(\"spark.hadoop.fs.s3a.connection.ssl.enabled\", \"false\")\\\n",
    "    .set(\"spark.hadoop.fs.s3a.impl\", \"org.apache.hadoop.fs.s3a.S3AFileSystem\")\\\n",
    "    .set('spark.hadoop.fs.s3a.aws.credentials.provider', 'org.apache.hadoop.fs.s3a.SimpleAWSCredentialsProvider')\\\n",
    "    .set('spark.hadoop.fs.s3a.endpoint', S3_ENDPOINT)\\\n",
    "    .set('spark.hadoop.fs.s3a.access.key', S3_ACCESS_KEY)\\\n",
    "    .set('spark.hadoop.fs.s3a.secret.key', S3_SECRET_KEY)\\\n",
    "    .set('spark.hadoop.fs.s3a.path.style.access', \"true\")\n",
    "\n",
    "sc = pyspark.SparkContext(conf=conf)\n",
    "\n",
    "\n",
    "spark = pyspark.sql.SparkSession(sc)\n",
    "\n"
   ]
  },
  {
   "cell_type": "markdown",
   "metadata": {},
   "source": [
    "# Write File or folder directly into MinIO bucket "
   ]
  },
  {
   "cell_type": "code",
   "execution_count": null,
   "metadata": {},
   "outputs": [],
   "source": [
    "# import os\n",
    "# path=\"D:/test/\"\n",
    "# def get_file_list(path):\n",
    "#     file_list = []\n",
    "#     for root, dirs, files in os.walk(path):\n",
    "#         for file in files:\n",
    "#             file_list.append(os.path.join(root, file))\n",
    "#     return file_list\n",
    "\n",
    "# def fileOrFolder(path):\n",
    "#     # check if file have . in file name return True if have . in file name\n",
    "#     if \".\" in path:\n",
    "#         return True\n",
    "#     else:\n",
    "#         return False\n",
    "\n",
    "# def MinioRename(file_name): \n",
    "#     file_name=file_name.replace(\"/mnt/hgfs/\",\"\")\n",
    "#     file_name= \"Bronze/\" + file_name\n",
    "#     file_name=file_name.replace(\"\\\\\",\"/\")\n",
    "#     file_name=file_name.replace(\" \",\"_\")\n",
    "#     return file_name\n"
   ]
  },
  {
   "cell_type": "code",
   "execution_count": null,
   "metadata": {},
   "outputs": [],
   "source": [
    "# # up load file to minio\n",
    "\n",
    "# from minio import Minio\n",
    "# from minio_client_functions import *\n",
    "# from support_functions import *\n",
    "# client = Minio(endpoint=S3_ENDPOINT,\n",
    "#                 access_key=S3_ACCESS_KEY,\n",
    "#                 secret_key=S3_SECRET_KEY,\n",
    "#                 secure=False)\n",
    "\n",
    "# client=client_initialize(S3_ENDPOINT,S3_ACCESS_KEY,S3_SECRET_KEY)\n",
    "# upload_object(client,S3_BUCKET,path)"
   ]
  },
  {
   "cell_type": "markdown",
   "metadata": {},
   "source": [
    "# Ingest data from SQL server to Bronze layer"
   ]
  },
  {
   "cell_type": "code",
   "execution_count": 287,
   "metadata": {},
   "outputs": [],
   "source": [
    "server_name = \"jdbc:sqlserver://192.168.1.71:1433\"\n",
    "database_name = \"new_sales\"\n",
    "url = server_name + \";\" + \"databaseName=\" + database_name + \";\"\n",
    "table_name = \"dbo.sales\"\n",
    "jdbcDF = spark.read.format(\"com.microsoft.sqlserver.jdbc.spark\")\\\n",
    ".option(\"driver\", \"com.microsoft.sqlserver.jdbc.SQLServerDriver\")\\\n",
    ".option(\"url\", url)\\\n",
    ".option(\"dbtable\",table_name )\\\n",
    ".option(\"user\", \"sa\")\\\n",
    ".option(\"password\", \"sa\")\\\n",
    ".load()"
   ]
  },
  {
   "cell_type": "code",
   "execution_count": 288,
   "metadata": {},
   "outputs": [
    {
     "name": "stderr",
     "output_type": "stream",
     "text": [
      "[Stage 2392:>                                                       (0 + 1) / 1]\r"
     ]
    },
    {
     "name": "stderr",
     "output_type": "stream",
     "text": [
      "                                                                                \r"
     ]
    },
    {
     "name": "stdout",
     "output_type": "stream",
     "text": [
      "Created Bronze layer successfully\n"
     ]
    }
   ],
   "source": [
    "try:\n",
    "      deltaTable=DeltaTable.forPath(spark,f\"s3a://{S3_BUCKET}/bronze\")\n",
    "      deltaTable.alias(\"sales\").merge(\n",
    "      jdbcDF.alias(\"updates\"),\n",
    "                      \"sales.ID = updates.ID\")                                \\\n",
    "                      .whenMatchedUpdate(set = {\"ORDERID\": \t    \"updates.ORDERID\", \t      \\\n",
    "                                                \"ORDERDETAILID\":\"updates.ORDERDETAILID\",      \\\n",
    "                                                \"DATE_\": \"updates.DATE_\",  \\\n",
    "                                                \"USERID\":       \"updates.USERID\",       \\\n",
    "                                                \"USERNAME_\": \"updates.USERNAME_\",\\\n",
    "                                                \"NAMESURNAME\": \"updates.NAMESURNAME\",\n",
    "                                                \"ITEMID\":\"updates.ITEMID\",\n",
    "                                                \"ITEMCODE\": \"updates.ITEMCODE\",\n",
    "                                                \"AMOUNT\":\"updates.AMOUNT\",\n",
    "                                                \"PRICE\":\"updates.PRICE\",\n",
    "                                                \"TOTALPRICE\":\"updates.TOTALPRICE\",\n",
    "                                                \"CATEGORY1\":\"updates.CATEGORY1\",\n",
    "                                                \"CATEGORY2\":\"updates.CATEGORY2\",\n",
    "                                                \"CATEGORY3\":\"updates.CATEGORY3\",\n",
    "                                                \"CATEGORY4\":\"updates.CATEGORY4\",\n",
    "                                                \"BRAND\":\"updates.brand\",\n",
    "                                                \"USERGENDER\":\"updates.USERGENDER\",\n",
    "                                                \"USERBIRTHDATE\":\"updates.USERBIRTHDATE\",\n",
    "                                                \"REGION\":\"updates.REGION\",\n",
    "                                                \"CITY\":\"updates.CITY\",\n",
    "                                                \"TOWN\":\"updates.TOWN\",\n",
    "                                                \"DISTRICT\":\"updates.DISTRICT\",\n",
    "                                                \"ADDRESSTEXT\":\"updates.ADDRESSTEXT\"}\n",
    "                      )\\\n",
    "                      .whenNotMatchedInsert(values =                                                  \\\n",
    "                         {                      \"ID\": \"updates.ID\",\n",
    "                                                \"ORDERID\": \t    \"updates.ORDERID\", \t      \\\n",
    "                                                \"ORDERDETAILID\":     \"updates.ORDERDETAILID\",      \\\n",
    "                                                \"DATE_\": \"updates.DATE_\",  \\\n",
    "                                                \"USERID\":       \"updates.USERID\",       \\\n",
    "                                                \"USERNAME_\": \"updates.USERNAME_\",\\\n",
    "                                                \"NAMESURNAME\": \"updates.NAMESURNAME\",\n",
    "                                                \"ITEMID\":\"updates.ITEMID\",\n",
    "                                                \"ITEMCODE\": \"updates.ITEMCODE\",\n",
    "                                                \"AMOUNT\":\"updates.AMOUNT\",\n",
    "                                                \"PRICE\":\"updates.PRICE\",\n",
    "                                                \"TOTALPRICE\":\"updates.TOTALPRICE\",\n",
    "                                                \"CATEGORY1\":\"updates.CATEGORY1\",\n",
    "                                                \"CATEGORY2\":\"updates.CATEGORY2\",\n",
    "                                                \"CATEGORY3\":\"updates.CATEGORY3\",\n",
    "                                                \"CATEGORY4\":\"updates.CATEGORY4\",\n",
    "                                                \"BRAND\":\"updates.BRAND\",\n",
    "                                                \"USERGENDER\":\"updates.USERGENDER\",\n",
    "                                                \"USERBIRTHDATE\":\"updates.USERBIRTHDATE\",\n",
    "                                                \"REGION\":\"updates.REGION\",\n",
    "                                                \"CITY\":\"updates.CITY\",\n",
    "                                                \"TOWN\":\"updates.TOWN\",\n",
    "                                                \"DISTRICT\":\"updates.DISTRICT\",\n",
    "                                                \"ADDRESSTEXT\":\"updates.ADDRESSTEXT\"}                                                                           \\\n",
    "                       ).execute() \n",
    "except:\n",
    "      jdbcDF.write.format(\"delta\").mode(\"overwrite\").save(f\"s3a://{S3_BUCKET}/bronze\")\n",
    "      print(\"Created Bronze layer successfully\")"
   ]
  },
  {
   "cell_type": "code",
   "execution_count": 289,
   "metadata": {},
   "outputs": [
    {
     "name": "stdout",
     "output_type": "stream",
     "text": [
      "+-------+-------------------+------+--------+---------+--------------------+----+--------+---------+-----------+--------------+-------------+--------------------+------------+--------------------+\n",
      "|version|          timestamp|userId|userName|operation| operationParameters| job|notebook|clusterId|readVersion|isolationLevel|isBlindAppend|    operationMetrics|userMetadata|          engineInfo|\n",
      "+-------+-------------------+------+--------+---------+--------------------+----+--------+---------+-----------+--------------+-------------+--------------------+------------+--------------------+\n",
      "|      0|2023-12-06 17:17:46|  NULL|    NULL|    WRITE|{mode -> Overwrit...|NULL|    NULL|     NULL|       NULL|  Serializable|        false|{numFiles -> 1, n...|        NULL|Apache-Spark/3.5....|\n",
      "+-------+-------------------+------+--------+---------+--------------------+----+--------+---------+-----------+--------------+-------------+--------------------+------------+--------------------+\n",
      "\n"
     ]
    }
   ],
   "source": [
    "deltaTable=DeltaTable.forPath(spark,f\"s3a://{S3_BUCKET}/bronze\")\n",
    "deltaTable.history().show()"
   ]
  },
  {
   "cell_type": "markdown",
   "metadata": {},
   "source": [
    "# Bronze To Silver"
   ]
  },
  {
   "cell_type": "code",
   "execution_count": 290,
   "metadata": {},
   "outputs": [
    {
     "name": "stderr",
     "output_type": "stream",
     "text": [
      "                                                                                \r"
     ]
    },
    {
     "name": "stdout",
     "output_type": "stream",
     "text": [
      "+--------+--------+-------------+-------------------+------+--------------------+--------------------+------+--------+--------------------+------+-----+------------------+---------+--------------------+---------+-------------------+------------+----------+-------------+-----------------+-------------+--------------------+--------------------+--------------------+\n",
      "|      ID| ORDERID|ORDERDETAILID|              DATE_|USERID|           USERNAME_|         NAMESURNAME|ITEMID|ITEMCODE|            ITEMNAME|AMOUNT|PRICE|        TOTALPRICE|CATEGORY1|           CATEGORY2|CATEGORY3|          CATEGORY4|       BRAND|USERGENDER|USERBIRTHDATE|           REGION|         CITY|                TOWN|            DISTRICT|         ADDRESSTEXT|\n",
      "+--------+--------+-------------+-------------------+------+--------------------+--------------------+------+--------+--------------------+------+-----+------------------+---------+--------------------+---------+-------------------+------------+----------+-------------+-----------------+-------------+--------------------+--------------------+--------------------+\n",
      "|50130355|10024350|     50130350|2023-02-27 00:00:00| 72065|abd_acikalin@fake...|Abdurrahman AÇIKALIN|  5942|   22745|JOOJO OYUN HAMURU...|   3.0| 7.44|             22.32|       EV|KITAP-DERGI-KIRTA...|KIRTASIYE|KIRTASIYE GERECLERI|KIRTASIYELER|         E|   1954-03-11|          Akdeniz|        Hatay|        HATAY MERKEZ|SERINYOL-AKINCILA...|SERINYOL-AKINCILA...|\n",
      "|50130558|10024393|     50130544|2023-02-25 00:00:00| 23409|cin_oguzirk@fakeh...|  Çinar Emir OGUZIRK|  2027|    3295|METEKSAN RESIM KA...|   7.0| 7.31|51.169999999999995|       EV|KITAP-DERGI-KIRTA...|KIRTASIYE|KIRTASIYE GERECLERI|KIRTASIYELER|         E|   1998-04-29|          Akdeniz|        Hatay|          ISKENDERUN|        SAKARYA MAH.|SAKARYA MAH. 288/...|\n",
      "|50130580|10024398|     50130586|2021-12-12 00:00:00| 70952|yun_sare@fakehotm...|          Yunus SARE|  7947|    7140| TICON SUFLE MAKASI |   8.0| 5.78|             46.24|       EV|KITAP-DERGI-KIRTA...|KIRTASIYE|KIRTASIYE GERECLERI|KIRTASIYELER|         E|   1971-08-05|       Iç Anadolu|      Kayseri|          YESILHISAR|      FEVZIOGLU MAH.|FEVZIOGLU MAH. DU...|\n",
      "|50130614|10024406|     50130619|2023-07-19 00:00:00| 55319|gul_ayana@fakeyah...|         Güllü AYANA|  9386|   16280|SERVE SHAKE -IT V...|   3.0| 8.51|             25.53|       EV|KITAP-DERGI-KIRTA...|KIRTASIYE|KIRTASIYE GERECLERI|KIRTASIYELER|         K|   1970-02-10|       Iç Anadolu|     Kirsehir|     KIRSEHIR MERKEZ|         KINDAM MAH.|KINDAM MAH. 1814....|\n",
      "|50130816|10024449|     50130820|2023-03-30 00:00:00|  2023|bir_cecen@fakehot...|        Birgül ÇEÇEN|  4173|    9438|AVANT 12 LI PASTE...|   2.0| 8.07|             16.14|       EV|KITAP-DERGI-KIRTA...|KIRTASIYE|KIRTASIYE GERECLERI|KIRTASIYELER|         K|   1999-11-24|          Marmara|     Istanbul|                SILE|        BALIBEY MAH.|BALIBEY MAH. KART...|\n",
      "|50083445|10014872|     50083441|2021-09-16 00:00:00| 73542|gur_gumuscubuk@fa...|   Gürsel GÜMÜSÇUBUK|  2470|    8165|JOVI OYUN HAMURU ...|   3.0| 4.81|             14.43|       EV|KITAP-DERGI-KIRTA...|KIRTASIYE|KIRTASIYE GERECLERI|KIRTASIYELER|         E|   1977-04-03|Güneydogu Anadolu|   Diyarbakir|           KAYAPINAR|    HUZUREVLERI MAH.|HUZUREVLERI MAH. ...|\n",
      "|50083493|10014881|     50083485|2021-12-02 00:00:00| 82365|fev_timucin@fakel...|       Fevzi TIMUÇIN| 16835|   19193|TURKUAZ SPIRALLI ...|   6.0| 5.38|             32.28|       EV|KITAP-DERGI-KIRTA...|KIRTASIYE|KIRTASIYE GERECLERI|KIRTASIYELER|         E|   1981-06-23|          Marmara|     Istanbul|             AVCILAR|        AMBARLI MAH.|AMBARLI MAH. PERI...|\n",
      "|50083556|10014899|     50083565|2023-03-21 00:00:00| 51083|fir_egilmez@fakey...|       Firat EGILMEZ|  2470|    8165|JOVI OYUN HAMURU ...|   5.0| 7.95|             39.75|       EV|KITAP-DERGI-KIRTA...|KIRTASIYE|KIRTASIYE GERECLERI|KIRTASIYELER|         E|   1986-10-07|          Marmara|     Istanbul|        KÜÇÜKÇEKMECE|     TEVFIK BEY MAH.|TEVFIK BEY MAH. K...|\n",
      "|50083809|10014950|     50083815|2023-04-17 00:00:00|  4619|fun_kirmiziyildiz...|Funda Huriye KIRM...|  9743|   10181|AIHAO AH 2031 TUK...|   4.0| 7.71|             30.84|       EV|KITAP-DERGI-KIRTA...|KIRTASIYE|KIRTASIYE GERECLERI|KIRTASIYELER|         K|   1960-11-16|          Marmara|    Çanakkale|    ÇANAKKALE MERKEZ|KEPEZ-CUMHURIYET ...|KEPEZ-CUMHURIYET ...|\n",
      "|50084022|10014991|     50084022|2021-02-06 00:00:00| 74295|mua_culcu@fakeliv...|       Muammer ÇULCU| 11667|   11942|  PELIKAN AL20 SILGI|   6.0| 4.04|24.240000000000002|       EV|KITAP-DERGI-KIRTA...|KIRTASIYE|KIRTASIYE GERECLERI|KIRTASIYELER|         E|   1960-09-21|        Karadeniz|        Tokat|        TOKAT MERKEZ|        ALIPASA MAH.|ALIPASA MAH. YENI...|\n",
      "|50084222|10015029|     50084231|2021-06-23 00:00:00| 54141|ays_gungur@fakeho...|      Aysegül GÜNGÜR|   884|    2109|PELIKAN STICK YAP...|   4.0| 4.85|              19.4|       EV|KITAP-DERGI-KIRTA...|KIRTASIYE|KIRTASIYE GERECLERI|KIRTASIYELER|         K|   1995-10-16|          Marmara|     Istanbul|             BEYOGLU|  KILIÇALI PASA MAH.|KILIÇALI PASA MAH...|\n",
      "|50084244|10015032|     50084251|2021-02-15 00:00:00|    12|zel_gokcel@fakeya...|       Zeliha GÖKÇEL|  4746|   17619|    A4 ASETAT KAGIDI|   1.0| 4.07|              4.07|       EV|KITAP-DERGI-KIRTA...|KIRTASIYE|KIRTASIYE GERECLERI|KIRTASIYELER|         K|   1952-01-02|       Iç Anadolu|        Konya|               HÜYÜK|IMRENLER-MÜLAZIM ...|IMRENLER-MÜLAZIM ...|\n",
      "|50084407|10015065|     50084417|2022-12-27 00:00:00| 86522|nur_ulgerli@fakel...|      Nurgül ÜLGERLI|  7952|    7145|TICON.KIDS VERSAT...|   1.0| 7.89|              7.89|       EV|KITAP-DERGI-KIRTA...|KIRTASIYE|KIRTASIYE GERECLERI|KIRTASIYELER|         K|   1979-06-21|              Ege|        Izmir|         SEFERIHISAR|        PAYAMLI MAH.|PAYAMLI MAH. SEHI...|\n",
      "|50084414|10015064|     50084404|2021-09-20 00:00:00| 70768|sil_baydua@fakegm...|        Silan BAYDUA|  3408|    8858|KIRTA.GS 72 YP KA...|   7.0| 4.82|             33.74|       EV|KITAP-DERGI-KIRTA...|KIRTASIYE|KIRTASIYE GERECLERI|KIRTASIYELER|         K|   1957-03-12|          Marmara|       Edirne|              IPSALA|  HACI-GÜNDOGAN MAH.|HACI-GÜNDOGAN MAH...|\n",
      "|50084437|10015070|     50084441|2021-04-12 00:00:00|  5557|mer_carpar@fakeli...|        Meral ÇARPAR|   379|     982| OFFICA BURO MAKASI |   5.0| 4.39|             21.95|       EV|KITAP-DERGI-KIRTA...|KIRTASIYE|KIRTASIYE GERECLERI|KIRTASIYELER|         K|   1972-08-18|       Iç Anadolu|       Ankara|               MAMAK|        DERBENT MAH.|DERBENT MAH. 1260...|\n",
      "|50084497|10015081|     50084491|2021-12-13 00:00:00| 26277|asm_harman@fakegm...|   Asmin Ebru HARMAN| 17584|   27904|KIRTA.BOLERO VERS...|   1.0| 5.37|              5.37|       EV|KITAP-DERGI-KIRTA...|KIRTASIYE|KIRTASIYE GERECLERI|KIRTASIYELER|         K|   1950-11-18|          Akdeniz|Kahramanmaras|KAHRAMANMARAS MERKEZ|        DURAKLI MAH.|DURAKLI MAH. 2001...|\n",
      "|50084579|10015099|     50084577|2021-05-21 00:00:00| 25357|rab_incegelis@fak...|     Rabia INCEGELIS|    60|     136| SUNUM DOSYASI 40 LI|   4.0| 4.57|             18.28|       EV|KITAP-DERGI-KIRTA...|KIRTASIYE|KIRTASIYE GERECLERI|KIRTASIYELER|         K|   1964-12-08|          Marmara|      Kocaeli|           BASISKELE|         DÖNGEL MAH.|DÖNGEL MAH. GÜLSE...|\n",
      "|50084635|10015110|     50084637|2021-01-01 00:00:00|  7009|ilh_nevin@fakehot...|         Ilhan NEVIN| 13807|   24320|ANGEL FRIENDS KUL...|   4.0| 3.74|             14.96|       EV|KITAP-DERGI-KIRTA...|KIRTASIYE|KIRTASIYE GERECLERI|KIRTASIYELER|         E|   1991-05-08|              Ege|        Aydin|             KOÇARLI|             DEDEKÖY|DEDEKÖY MAH. KUMB...|\n",
      "|50084666|10015114|     50084668|2023-03-25 00:00:00| 76074|isa_yukselen@fake...|        Isa YÜKSELEN|  3601|    9171|TIGRA OKUL DEFTER...|   1.0| 7.89|              7.89|       EV|KITAP-DERGI-KIRTA...|KIRTASIYE|KIRTASIYE GERECLERI|KIRTASIYELER|         E|   1975-06-28|Güneydogu Anadolu|       Batman|       BATMAN MERKEZ|      ÇAMLITEPE MAH.|ÇAMLITEPE MAH. 40...|\n",
      "|50084800|10015143|     50084800|2022-08-23 00:00:00|  8752|gon_karasahin@fak...|     Gönül KARASAHIN|  4344|   12495|  TECHJOB SOFT SILGI|   3.0| 7.13|             21.39|       EV|KITAP-DERGI-KIRTA...|KIRTASIYE|KIRTASIYE GERECLERI|KIRTASIYELER|         K|   1977-03-01|          Akdeniz|     Osmaniye|              DÜZIÇI|         MERKEZ MAH.|MERKEZ MAH. HASKÖ...|\n",
      "+--------+--------+-------------+-------------------+------+--------------------+--------------------+------+--------+--------------------+------+-----+------------------+---------+--------------------+---------+-------------------+------------+----------+-------------+-----------------+-------------+--------------------+--------------------+--------------------+\n",
      "only showing top 20 rows\n",
      "\n"
     ]
    }
   ],
   "source": [
    "from pyspark.sql.types import *\n",
    "from pyspark.sql.functions import *\n",
    "\n",
    "df_bronze=(spark.read.format(\"delta\")\n",
    "            .option(\"header\", \"true\")\n",
    "            .load(f\"s3a://{S3_BUCKET}/bronze\"))\n",
    "\n",
    "df_bronze.show()"
   ]
  },
  {
   "cell_type": "markdown",
   "metadata": {},
   "source": [
    "## Validate data "
   ]
  },
  {
   "cell_type": "markdown",
   "metadata": {},
   "source": [
    "### Check null values"
   ]
  },
  {
   "cell_type": "code",
   "execution_count": 291,
   "metadata": {},
   "outputs": [
    {
     "name": "stderr",
     "output_type": "stream",
     "text": [
      "[Stage 2406:>                                                       (0 + 1) / 1]\r"
     ]
    },
    {
     "name": "stdout",
     "output_type": "stream",
     "text": [
      "+---+-------+-------------+-----+------+---------+-----------+------+--------+--------+------+-----+----------+---------+---------+---------+---------+-----+----------+-------------+------+----+----+--------+-----------+\n",
      "| ID|ORDERID|ORDERDETAILID|DATE_|USERID|USERNAME_|NAMESURNAME|ITEMID|ITEMCODE|ITEMNAME|AMOUNT|PRICE|TOTALPRICE|CATEGORY1|CATEGORY2|CATEGORY3|CATEGORY4|BRAND|USERGENDER|USERBIRTHDATE|REGION|CITY|TOWN|DISTRICT|ADDRESSTEXT|\n",
      "+---+-------+-------------+-----+------+---------+-----------+------+--------+--------+------+-----+----------+---------+---------+---------+---------+-----+----------+-------------+------+----+----+--------+-----------+\n",
      "|  0|      0|            0|    0|     0|        0|          0|     0|       0|       0|     0|    0|         0|        0|        0|        0|        0|    0|         0|            0|     0|   0|   0|       0|          0|\n",
      "+---+-------+-------------+-----+------+---------+-----------+------+--------+--------+------+-----+----------+---------+---------+---------+---------+-----+----------+-------------+------+----+----+--------+-----------+\n",
      "\n"
     ]
    },
    {
     "name": "stderr",
     "output_type": "stream",
     "text": [
      "                                                                                \r"
     ]
    }
   ],
   "source": [
    "df_bronze.select([count(when(col(c).isNull(), c)).alias(c) for c in df_bronze.columns]).show() "
   ]
  },
  {
   "cell_type": "markdown",
   "metadata": {},
   "source": [
    "### Rename column name "
   ]
  },
  {
   "cell_type": "code",
   "execution_count": 292,
   "metadata": {},
   "outputs": [],
   "source": [
    "# Get the list of columns\n",
    "cols = df_bronze.columns\n",
    "df_validated=df_bronze\n",
    "# Loop through each column and rename it\n",
    "for col in cols:\n",
    "  new_col = col.replace(\"_\", \"\").capitalize()\n",
    "  df_validated = df_validated.withColumnRenamed(col, new_col)"
   ]
  },
  {
   "cell_type": "code",
   "execution_count": null,
   "metadata": {},
   "outputs": [],
   "source": [
    "df_validated.printSchema()"
   ]
  },
  {
   "cell_type": "markdown",
   "metadata": {},
   "source": [
    "### Convert data type of specific attributes"
   ]
  },
  {
   "cell_type": "code",
   "execution_count": 293,
   "metadata": {},
   "outputs": [],
   "source": [
    "df_validated=df_validated.withColumn(\"Date\",to_date(\"Date\"))\n",
    "df_validated=df_validated.withColumn(\"Amount\",(df_validated[\"Amount\"]).cast('integer'))\n",
    "df_validated=df_validated.withColumn(\"Totalprice\",df_validated[\"Totalprice\"].cast('decimal(10,2)'))\n",
    "df_validated=df_validated.withColumn(\"Price\",df_validated[\"Price\"].cast('decimal(10,2)'))"
   ]
  },
  {
   "cell_type": "code",
   "execution_count": 294,
   "metadata": {},
   "outputs": [
    {
     "name": "stdout",
     "output_type": "stream",
     "text": [
      "root\n",
      " |-- Id: integer (nullable = true)\n",
      " |-- Orderid: integer (nullable = true)\n",
      " |-- Orderdetailid: integer (nullable = true)\n",
      " |-- Date: date (nullable = true)\n",
      " |-- Userid: integer (nullable = true)\n",
      " |-- Username: string (nullable = true)\n",
      " |-- Namesurname: string (nullable = true)\n",
      " |-- Itemid: integer (nullable = true)\n",
      " |-- Itemcode: string (nullable = true)\n",
      " |-- Itemname: string (nullable = true)\n",
      " |-- Amount: integer (nullable = true)\n",
      " |-- Price: decimal(10,2) (nullable = true)\n",
      " |-- Totalprice: decimal(10,2) (nullable = true)\n",
      " |-- Category1: string (nullable = true)\n",
      " |-- Category2: string (nullable = true)\n",
      " |-- Category3: string (nullable = true)\n",
      " |-- Category4: string (nullable = true)\n",
      " |-- Brand: string (nullable = true)\n",
      " |-- Usergender: string (nullable = true)\n",
      " |-- Userbirthdate: date (nullable = true)\n",
      " |-- Region: string (nullable = true)\n",
      " |-- City: string (nullable = true)\n",
      " |-- Town: string (nullable = true)\n",
      " |-- District: string (nullable = true)\n",
      " |-- Addresstext: string (nullable = true)\n",
      "\n"
     ]
    }
   ],
   "source": [
    "df_validated.printSchema()"
   ]
  },
  {
   "cell_type": "markdown",
   "metadata": {},
   "source": [
    "### Create schema by Object"
   ]
  },
  {
   "cell_type": "code",
   "execution_count": 295,
   "metadata": {},
   "outputs": [],
   "source": [
    "df1 = df_validated.groupBy(\"Itemid\").agg(max(\"Date\").alias(\"Date\"))\n",
    "\n",
    "Item_silver = df_validated.join(df1, [\"Itemid\", \"Date\"]).select('Itemid','Itemcode','Itemname','Price','Category1','Category2','Category3','Category4','Brand')\n",
    "Item_silver=Item_silver.drop_duplicates(subset=[\"Itemid\"])"
   ]
  },
  {
   "cell_type": "code",
   "execution_count": 297,
   "metadata": {},
   "outputs": [],
   "source": [
    "\n",
    "User_silver=df_validated.select('Userid','Username','Namesurname','Usergender','Userbirthdate','Region','City','Town','District','Addresstext').drop_duplicates(subset=[\"Userid\"])\n",
    "Order_silver=df_validated.select('Orderid','Userid','Date').drop_duplicates(subset=[\"Orderid\"])\n",
    "Orderdetail_silver=df_validated.select('Orderdetailid','Orderid','Itemid','Amount','Price','Totalprice').drop_duplicates(subset=[\"Orderdetailid\"])"
   ]
  },
  {
   "cell_type": "code",
   "execution_count": 298,
   "metadata": {},
   "outputs": [
    {
     "name": "stderr",
     "output_type": "stream",
     "text": [
      "[Stage 2410:======>                                                (6 + 1) / 50]\r"
     ]
    },
    {
     "name": "stderr",
     "output_type": "stream",
     "text": [
      "                                                                                \r"
     ]
    },
    {
     "name": "stdout",
     "output_type": "stream",
     "text": [
      "Write Silver Item table successfully\n"
     ]
    },
    {
     "name": "stderr",
     "output_type": "stream",
     "text": [
      "                                                                                \r"
     ]
    },
    {
     "name": "stdout",
     "output_type": "stream",
     "text": [
      "Write Silver User table successfully\n"
     ]
    },
    {
     "name": "stderr",
     "output_type": "stream",
     "text": [
      "                                                                                \r"
     ]
    },
    {
     "name": "stdout",
     "output_type": "stream",
     "text": [
      "Write Silver Order table successfully\n"
     ]
    },
    {
     "name": "stderr",
     "output_type": "stream",
     "text": [
      "[Stage 2458:===================================================>  (48 + 1) / 50]\r"
     ]
    },
    {
     "name": "stdout",
     "output_type": "stream",
     "text": [
      "Write Silver Orderdetail table successfully\n"
     ]
    },
    {
     "name": "stderr",
     "output_type": "stream",
     "text": [
      "                                                                                \r"
     ]
    }
   ],
   "source": [
    "Item_silver_path=f\"s3a://{S3_BUCKET}/silver/Item\"\n",
    "User_silver_path=f\"s3a://{S3_BUCKET}/silver/User\"\n",
    "Order_silver_path=f\"s3a://{S3_BUCKET}/silver/Order\"\n",
    "Orderdetail_silver_path=f\"s3a://{S3_BUCKET}/silver/Orderdetail\"\n",
    "\n",
    "#Load Silver Item table\n",
    "try:\n",
    "      deltaTable=DeltaTable.forPath(spark,Item_silver_path)\n",
    "      deltaTable.alias(\"item\").merge(\n",
    "      Item_silver.alias(\"updates\"),\n",
    "                      \"item.Itemid = updates.Itemid\")                                \\\n",
    "                      .whenMatchedUpdate(set = {\n",
    "                                                \"Itemcode\": \"updates.Itemcode\",\n",
    "                                                \"Itemname\":\"updates.Itemname\",\n",
    "                                                \"Amount\":\"updates.Amount\",\n",
    "                                                \"Price\":\"updates.Price\",\n",
    "                                                \"Totalprice\":\"updates.Totalprice\",\n",
    "                                                \"Category1\":\"updates.Category1\",\n",
    "                                                \"Category2\":\"updates.Category2\",\n",
    "                                                \"Category3\":\"updates.Category3\",\n",
    "                                                \"Category4\":\"updates.Category4\",\n",
    "                                                \"Brand\":\"updates.Brand\"\n",
    "                                                }\n",
    "                      )\\\n",
    "                      .whenNotMatchedInsert(values =                                                  \\\n",
    "                         {                      \"Itemid\": \"updates.Itemid\",\n",
    "                                                \"Itemcode\": \"updates.Itemcode\",\n",
    "                                                \"Itemname\":\"updates.Itemname\",\n",
    "                                                \"Amount\":\"updates.Amount\",\n",
    "                                                \"Price\":\"updates.Price\",\n",
    "                                                \"Totalprice\":\"updates.Totalprice\",\n",
    "                                                \"Category1\":\"updates.Category1\",\n",
    "                                                \"Category2\":\"updates.Category2\",\n",
    "                                                \"Category3\":\"updates.Category3\",\n",
    "                                                \"Category4\":\"updates.Category4\",\n",
    "                                                \"Brand\":\"updates.brand\"}                                                                           \\\n",
    "                       ).execute() \n",
    "      print(\"Inserted and updated Item successfully\")\n",
    "except:\n",
    "      Item_silver.write.format(\"delta\").mode(\"overwrite\").save(Item_silver_path)\n",
    "      print(\"Write Silver Item table successfully\")\n",
    "\n",
    "\n",
    "#Load Silver User table\n",
    "try:\n",
    "      deltaTable=DeltaTable.forPath(spark,User_silver_path)\n",
    "      deltaTable.alias(\"user\").merge(\n",
    "      User_silver.alias(\"updates\"),\n",
    "                      \"user.Userid = updates.Userid\")                                \\\n",
    "                      .whenMatchedUpdate(set = {\n",
    "                                                'Username': \"updates.Username\",\n",
    "                                                'Namesurname': \"updates.Namesurname\",\n",
    "                                                'Usergender': \"updates.Usergender\",\n",
    "                                                'Userbirthdate':\"updates.Userbirthdate\",\n",
    "                                                'Region':\"updates.Region\",\n",
    "                                                'City':\"updates.City\",\n",
    "                                                'Town':\"updates.Town\",\n",
    "                                                'District':\"updates.District\",\n",
    "                                                'Addresstext':\"updates.Addresstext\"\n",
    "                                                }\n",
    "                      )\\\n",
    "                      .whenNotMatchedInsert(values =                                                  \\\n",
    "                         {                      \"Userid\": \"updates.Userid\",\n",
    "                                                'Username': \"updates.Username\",\n",
    "                                                'Namesurname': \"updates.Namesurname\",\n",
    "                                                'Usergender': \"updates.Usergender\",\n",
    "                                                'Userbirthdate':\"updates.Userbirthdate\",\n",
    "                                                'Region':\"updates.Region\",\n",
    "                                                'City':\"updates.City\",\n",
    "                                                'Town':\"updates.Town\",\n",
    "                                                'District':\"updates.District\",\n",
    "                                                'Addresstext':\"updates.Addresstext\"}                                                                           \\\n",
    "                       ).execute() \n",
    "      print(\"Inserted and updated User successfully\")\n",
    "except:\n",
    "      User_silver.write.format(\"delta\").mode(\"overwrite\").save(User_silver_path)\n",
    "      print(\"Write Silver User table successfully\")\n",
    "\n",
    "\n",
    "\n",
    "#Load Silver order table\n",
    "try:\n",
    "      deltaTable=DeltaTable.forPath(spark,Order_silver_path)\n",
    "      deltaTable.alias(\"order\").merge(\n",
    "      Order_silver.alias(\"updates\"),\n",
    "                      \"order.Orderid = updates.Orderid\")                                \\\n",
    "                      .whenMatchedUpdate(set = {\n",
    "                                                \"Userid\":\"updates.Userid\",\n",
    "                                                \"Date\":\"updates.Date\"\n",
    "                                                }\n",
    "                      )\\\n",
    "                      .whenNotMatchedInsert(values =                                                  \\\n",
    "                         {                      \"Orderid\":\"updates.Orderid\",\n",
    "                                                \"Userid\":\"updates.Userid\",\n",
    "                                                \"Date\":\"updates.Date\"}                                                                           \\\n",
    "                       ).execute() \n",
    "      print(\"Inserted and updated Order successfully\")\n",
    "except:\n",
    "      Order_silver.write.format(\"delta\").mode(\"overwrite\").save(Order_silver_path)\n",
    "      print(\"Write Silver Order table successfully\")\n",
    "\n",
    "\n",
    "#Load Silver Orderdetail table\n",
    "try:\n",
    "      deltaTable=DeltaTable.forPath(spark,Orderdetail_silver_path)\n",
    "      deltaTable.alias(\"orderdetail\").merge(\n",
    "      Orderdetail_silver.alias(\"updates\"),\n",
    "                      \"orderdetail.Orderdetailid = updates.Orderdetailid\")                                \\\n",
    "                      .whenMatchedUpdate(set = {\n",
    "                                                'Orderid':\"updates.Orderid\",\n",
    "                                                'Itemid':\"updates.Itemid\",\n",
    "                                                'Amount':\"updates.Amount\",\n",
    "                                                'Price':\"updates.Price\",\n",
    "                                                'Totalprice':\"updates.Totalprice\"\n",
    "                                                }\n",
    "                      )\\\n",
    "                      .whenNotMatchedInsert(values =                                                  \\\n",
    "                         {                      'Orderdetailid':\"updates.Orderdetailid\",\n",
    "                                                'Orderid':\"updates.Orderid\",\n",
    "                                                'Itemid':\"updates.Itemid\",\n",
    "                                                'Amount':\"updates.Amount\",\n",
    "                                                'Price':\"updates.Price\",\n",
    "                                                'Totalprice':\"updates.Totalprice\"}                                                                           \\\n",
    "                       ).execute()  \n",
    "      print(\"Inserted and updated Orderdetail successfully\")\n",
    "except:\n",
    "      Orderdetail_silver.write.format(\"delta\").mode(\"overwrite\").save(Orderdetail_silver_path)\n",
    "      print(\"Write Silver Orderdetail table successfully\")"
   ]
  },
  {
   "cell_type": "markdown",
   "metadata": {},
   "source": [
    "# Silver layer To Gold layer"
   ]
  },
  {
   "cell_type": "code",
   "execution_count": 299,
   "metadata": {},
   "outputs": [],
   "source": [
    "df_order=spark.read.format(\"delta\").option(\"header\",\"true\").load(f\"s3a://{S3_BUCKET}/silver/Order\")"
   ]
  },
  {
   "cell_type": "code",
   "execution_count": 300,
   "metadata": {},
   "outputs": [],
   "source": [
    "df_orderdetail=spark.read.format(\"delta\").option(\"header\",\"true\").load(f\"s3a://{S3_BUCKET}/silver/Orderdetail\")"
   ]
  },
  {
   "cell_type": "code",
   "execution_count": 301,
   "metadata": {},
   "outputs": [],
   "source": [
    "totalpay_by_order=df_order.join(df_orderdetail.groupBy(\"Orderid\").agg(sum('Totalprice').alias(\"TotalPay\")),on=['Orderid'])"
   ]
  },
  {
   "cell_type": "code",
   "execution_count": 302,
   "metadata": {},
   "outputs": [],
   "source": [
    "df_user=spark.read.format(\"delta\").option(\"header\",\"true\").load(f\"s3a://{S3_BUCKET}/silver/User\")"
   ]
  },
  {
   "cell_type": "code",
   "execution_count": 303,
   "metadata": {},
   "outputs": [],
   "source": [
    "totalpay_by_user=df_user.join(totalpay_by_order.groupBy(\"Userid\").agg(sum(\"TotalPay\").alias(\"TotalPay\")).distinct(),on=[\"Userid\"])"
   ]
  },
  {
   "cell_type": "code",
   "execution_count": 304,
   "metadata": {},
   "outputs": [],
   "source": [
    "df_item=spark.read.format(\"delta\").option(\"header\",\"true\").load(f\"s3a://{S3_BUCKET}/silver/Item\")"
   ]
  },
  {
   "cell_type": "code",
   "execution_count": 305,
   "metadata": {},
   "outputs": [],
   "source": [
    "totalsold_totalamount_by_item=df_item.join(df_orderdetail.groupBy(\"Itemid\").agg(sum('Amount').alias(\"SoldQuantity\")),on=['Itemid']).distinct()"
   ]
  },
  {
   "cell_type": "code",
   "execution_count": 306,
   "metadata": {},
   "outputs": [],
   "source": [
    "totalsold_totalamount_by_item=totalsold_totalamount_by_item.join(df_orderdetail.groupBy(\"Itemid\").agg(sum('Totalprice').alias(\"TotalAmount\")),on=['Itemid']).distinct()"
   ]
  },
  {
   "cell_type": "code",
   "execution_count": 307,
   "metadata": {},
   "outputs": [
    {
     "name": "stderr",
     "output_type": "stream",
     "text": [
      "[Stage 2463:========================>                             (23 + 1) / 50]\r"
     ]
    },
    {
     "name": "stderr",
     "output_type": "stream",
     "text": [
      "                                                                                \r"
     ]
    },
    {
     "name": "stdout",
     "output_type": "stream",
     "text": [
      "Write Gold TotalPay by User table successfully\n"
     ]
    },
    {
     "name": "stderr",
     "output_type": "stream",
     "text": [
      "                                                                                \r"
     ]
    },
    {
     "name": "stdout",
     "output_type": "stream",
     "text": [
      "Write gold Order table successfully\n"
     ]
    },
    {
     "name": "stderr",
     "output_type": "stream",
     "text": [
      "[Stage 2514:====================================================> (49 + 1) / 50]\r"
     ]
    },
    {
     "name": "stdout",
     "output_type": "stream",
     "text": [
      "Write gold Item table successfully\n"
     ]
    },
    {
     "name": "stderr",
     "output_type": "stream",
     "text": [
      "                                                                                \r"
     ]
    }
   ],
   "source": [
    "totalsold_totalamount_by_item_path=f\"s3a://{S3_BUCKET}/gold/TotalSold_and_TotalAmount_By_Item\"\n",
    "totalpay_by_user_path=f\"s3a://{S3_BUCKET}/gold/TotalPay_By_User\"\n",
    "totalpay_by_order_path=f\"s3a://{S3_BUCKET}/gold/TotalPay_By_Order\"\n",
    "\n",
    "#Load gold totalpay_by_user table\n",
    "try:\n",
    "      deltaTable=DeltaTable.forPath(spark,totalpay_by_user_path)\n",
    "      deltaTable.alias(\"user\").merge(\n",
    "      totalpay_by_user.alias(\"updates\"),\n",
    "                      \"user.Userid = updates.Userid\")                                \\\n",
    "                      .whenMatchedUpdate(set = {\n",
    "                                                'Username': \"updates.Username\",\n",
    "                                                'Namesurname': \"updates.Namesurname\",\n",
    "                                                'Usergender': \"updates.Usergender\",\n",
    "                                                'Userbirthdate':\"updates.Userbirthdate\",\n",
    "                                                'Region':\"updates.Region\",\n",
    "                                                'City':\"updates.City\",\n",
    "                                                'Town':\"updates.Town\",\n",
    "                                                'District':\"updates.District\",\n",
    "                                                'Addresstext':\"updates.Addresstext\",\n",
    "                                                \"TotalPay\":\"updates.TotalPay\"\n",
    "                                                }\n",
    "                      )\\\n",
    "                      .whenNotMatchedInsert(values =                                                  \\\n",
    "                         {                      \"Userid\": \"updates.Userid\",\n",
    "                                                'Username': \"updates.Username\",\n",
    "                                                'Namesurname': \"updates.Namesurname\",\n",
    "                                                'Usergender': \"updates.Usergender\",\n",
    "                                                'Userbirthdate':\"updates.Userbirthdate\",\n",
    "                                                'Region':\"updates.Region\",\n",
    "                                                'City':\"updates.City\",\n",
    "                                                'Town':\"updates.Town\",\n",
    "                                                'District':\"updates.District\",\n",
    "                                                'Addresstext':\"updates.Addresstext\",\n",
    "                                                \"TotalPay\":\"updates.TotalPay\"}                                                                           \\\n",
    "                       ).execute() \n",
    "      print(\"Inserted and updated Totalpay by User successfully\")\n",
    "except:\n",
    "      totalpay_by_user.write.format(\"delta\").mode(\"overwrite\").save(totalpay_by_user_path)\n",
    "      print(\"Write Gold TotalPay by User table successfully\")\n",
    "\n",
    "#load gold order table\n",
    "try:\n",
    "      deltaTable=DeltaTable.forPath(spark,totalpay_by_order_path)\n",
    "      deltaTable.alias(\"order\").merge(\n",
    "      totalpay_by_order.alias(\"updates\"),\n",
    "                      \"order.Orderid = updates.Orderid\")                                \\\n",
    "                      .whenMatchedUpdate(set = {\n",
    "                                                \"Userid\":\"updates.Userid\",\n",
    "                                                \"Date\":\"updates.Date\",\n",
    "                                                \"TotalPay\":\"updates.TotalPay\"\n",
    "                                                }\n",
    "                      )\\\n",
    "                      .whenNotMatchedInsert(values =                                                  \\\n",
    "                         {                      \"Orderid\":\"updates.Orderid\",\n",
    "                                                \"Userid\":\"updates.Userid\",\n",
    "                                                \"Date\":\"updates.Date\",\n",
    "                                                \"TotalPay\":\"updates.TotalPay\"}                                                                           \\\n",
    "                       ).execute() \n",
    "      print(\"Inserted and updated totalpay by Order successfully\")\n",
    "except:\n",
    "      totalpay_by_order.write.format(\"delta\").mode(\"overwrite\").save(totalpay_by_order_path)\n",
    "      print(\"Write gold Order table successfully\")\n",
    "\n",
    "#Load gold Item table\n",
    "try:\n",
    "      deltaTable=DeltaTable.forPath(spark,totalsold_totalamount_by_item_path)\n",
    "      deltaTable.alias(\"item\").merge(\n",
    "      totalsold_totalamount_by_item.alias(\"updates\"),\n",
    "                      \"item.Itemid = updates.Itemid\")                                \\\n",
    "                      .whenMatchedUpdate(set = {\n",
    "                                                \"Itemcode\": \"updates.Itemcode\",\n",
    "                                                \"Itemname\":\"updates.Itemname\",\n",
    "                                                \"Amount\":\"updates.Amount\",\n",
    "                                                \"Price\":\"updates.Price\",\n",
    "                                                \"Totalprice\":\"updates.Totalprice\",\n",
    "                                                \"Category1\":\"updates.Category1\",\n",
    "                                                \"Category2\":\"updates.Category2\",\n",
    "                                                \"Category3\":\"updates.Category3\",\n",
    "                                                \"Category4\":\"updates.Category4\",\n",
    "                                                \"Brand\":\"updates.Brand\",\n",
    "                                                \"SoldQuantity\":\"updates.SoldQuantity\",\n",
    "                                                \"TotalAmount\":\"updates.TotalAmount\"\n",
    "                                                }\n",
    "                      )\\\n",
    "                      .whenNotMatchedInsert(values =                                                  \\\n",
    "                         {                      \"Itemid\": \"updates.Itemid\",\n",
    "                                                \"Itemcode\": \"updates.Itemcode\",\n",
    "                                                \"Itemname\":\"updates.Itemname\",\n",
    "                                                \"Amount\":\"updates.Amount\",\n",
    "                                                \"Price\":\"updates.Price\",\n",
    "                                                \"Totalprice\":\"updates.Totalprice\",\n",
    "                                                \"Category1\":\"updates.Category1\",\n",
    "                                                \"Category2\":\"updates.Category2\",\n",
    "                                                \"Category3\":\"updates.Category3\",\n",
    "                                                \"Category4\":\"updates.Category4\",\n",
    "                                                \"Brand\":\"updates.brand\",\n",
    "                                                \"SoldQuantity\":\"updates.SoldQuantity\",\n",
    "                                                \"TotalAmount\":\"updates.TotalAmount\"}                                                                           \\\n",
    "                       ).execute() \n",
    "      print(\"Inserted and updated gold Item table successfully\")\n",
    "except:\n",
    "      totalsold_totalamount_by_item.write.format(\"delta\").mode(\"overwrite\").save(totalsold_totalamount_by_item_path)\n",
    "      print(\"Write gold Item table successfully\")"
   ]
  },
  {
   "cell_type": "code",
   "execution_count": 308,
   "metadata": {},
   "outputs": [],
   "source": [
    "df_item_gold=spark.read.format('delta').load(f\"s3a://{S3_BUCKET}/gold/TotalSold_and_TotalAmount_By_Item\")"
   ]
  },
  {
   "cell_type": "code",
   "execution_count": 309,
   "metadata": {},
   "outputs": [],
   "source": [
    "df_totalByOrder=spark.read.format(\"delta\").load(f\"s3a://{S3_BUCKET}/gold/TotalPay_By_Order\")"
   ]
  },
  {
   "cell_type": "code",
   "execution_count": 310,
   "metadata": {},
   "outputs": [],
   "source": [
    "df_totalByUser=spark.read.format(\"delta\").load(f\"s3a://{S3_BUCKET}/gold/TotalPay_By_User\")"
   ]
  },
  {
   "cell_type": "code",
   "execution_count": 311,
   "metadata": {},
   "outputs": [
    {
     "name": "stderr",
     "output_type": "stream",
     "text": [
      "[Stage 2519:======>                                                (6 + 1) / 50]\r"
     ]
    },
    {
     "name": "stderr",
     "output_type": "stream",
     "text": [
      "                                                                                \r"
     ]
    },
    {
     "name": "stdout",
     "output_type": "stream",
     "text": [
      "+----------------------+\n",
      "|count(DISTINCT ITEMID)|\n",
      "+----------------------+\n",
      "|                 10837|\n",
      "+----------------------+\n",
      "\n"
     ]
    },
    {
     "name": "stderr",
     "output_type": "stream",
     "text": [
      "                                                                                \r"
     ]
    },
    {
     "name": "stdout",
     "output_type": "stream",
     "text": [
      "+-------------+\n",
      "|count(Itemid)|\n",
      "+-------------+\n",
      "|        10837|\n",
      "+-------------+\n",
      "\n"
     ]
    },
    {
     "name": "stderr",
     "output_type": "stream",
     "text": [
      "                                                                                \r"
     ]
    },
    {
     "name": "stdout",
     "output_type": "stream",
     "text": [
      "+-------------+\n",
      "|count(Itemid)|\n",
      "+-------------+\n",
      "|        10837|\n",
      "+-------------+\n",
      "\n"
     ]
    }
   ],
   "source": [
    "df_bronze.select(countDistinct(\"ITEMID\")).show()\n",
    "\n",
    "Item_silver.select(count(\"Itemid\")).show()\n",
    "\n",
    "df_item_gold.select(count(\"Itemid\")).show()"
   ]
  },
  {
   "cell_type": "code",
   "execution_count": 312,
   "metadata": {},
   "outputs": [
    {
     "name": "stderr",
     "output_type": "stream",
     "text": [
      "                                                                                \r"
     ]
    },
    {
     "name": "stdout",
     "output_type": "stream",
     "text": [
      "+----------------------+\n",
      "|count(DISTINCT USERID)|\n",
      "+----------------------+\n",
      "|                 49801|\n",
      "+----------------------+\n",
      "\n"
     ]
    },
    {
     "name": "stderr",
     "output_type": "stream",
     "text": [
      "                                                                                \r"
     ]
    },
    {
     "name": "stdout",
     "output_type": "stream",
     "text": [
      "+-------------+\n",
      "|count(Userid)|\n",
      "+-------------+\n",
      "|        49801|\n",
      "+-------------+\n",
      "\n"
     ]
    },
    {
     "name": "stderr",
     "output_type": "stream",
     "text": [
      "                                                                                \r"
     ]
    },
    {
     "name": "stdout",
     "output_type": "stream",
     "text": [
      "+-------------+\n",
      "|count(Userid)|\n",
      "+-------------+\n",
      "|        49801|\n",
      "+-------------+\n",
      "\n"
     ]
    }
   ],
   "source": [
    "df_bronze.select(countDistinct(\"USERID\")).show()\n",
    "\n",
    "User_silver.select(count(\"Userid\")).show()\n",
    "\n",
    "df_totalByUser.select(count(\"Userid\")).show()"
   ]
  },
  {
   "cell_type": "code",
   "execution_count": 313,
   "metadata": {},
   "outputs": [
    {
     "name": "stderr",
     "output_type": "stream",
     "text": [
      "                                                                                \r"
     ]
    },
    {
     "name": "stdout",
     "output_type": "stream",
     "text": [
      "+-----------------------+\n",
      "|count(DISTINCT ORDERID)|\n",
      "+-----------------------+\n",
      "|                  72077|\n",
      "+-----------------------+\n",
      "\n"
     ]
    },
    {
     "name": "stderr",
     "output_type": "stream",
     "text": [
      "                                                                                \r"
     ]
    },
    {
     "name": "stdout",
     "output_type": "stream",
     "text": [
      "+--------------+\n",
      "|count(Orderid)|\n",
      "+--------------+\n",
      "|         72077|\n",
      "+--------------+\n",
      "\n"
     ]
    },
    {
     "name": "stderr",
     "output_type": "stream",
     "text": [
      "                                                                                \r"
     ]
    },
    {
     "name": "stdout",
     "output_type": "stream",
     "text": [
      "+--------------+\n",
      "|count(Orderid)|\n",
      "+--------------+\n",
      "|         72077|\n",
      "+--------------+\n",
      "\n"
     ]
    }
   ],
   "source": [
    "df_bronze.select(countDistinct(\"ORDERID\")).show()\n",
    "\n",
    "Order_silver.select(count(\"Orderid\")).show()\n",
    "\n",
    "df_totalByOrder.select(count(\"Orderid\")).show()"
   ]
  },
  {
   "cell_type": "code",
   "execution_count": 314,
   "metadata": {},
   "outputs": [
    {
     "name": "stderr",
     "output_type": "stream",
     "text": [
      "                                                                                \r"
     ]
    },
    {
     "name": "stdout",
     "output_type": "stream",
     "text": [
      "+-----------------------------+\n",
      "|count(DISTINCT ORDERDETAILID)|\n",
      "+-----------------------------+\n",
      "|                       100001|\n",
      "+-----------------------------+\n",
      "\n"
     ]
    },
    {
     "name": "stderr",
     "output_type": "stream",
     "text": [
      "[Stage 2596:>                                                       (0 + 1) / 1]\r"
     ]
    },
    {
     "name": "stdout",
     "output_type": "stream",
     "text": [
      "+--------------------+\n",
      "|count(Orderdetailid)|\n",
      "+--------------------+\n",
      "|              100001|\n",
      "+--------------------+\n",
      "\n"
     ]
    },
    {
     "name": "stderr",
     "output_type": "stream",
     "text": [
      "                                                                                \r"
     ]
    }
   ],
   "source": [
    "df_bronze.select(countDistinct(\"ORDERDETAILID\")).show()\n",
    "\n",
    "Orderdetail_silver.select(count(\"Orderdetailid\")).show()\n"
   ]
  }
 ],
 "metadata": {
  "kernelspec": {
   "display_name": "base",
   "language": "python",
   "name": "python3"
  },
  "language_info": {
   "codemirror_mode": {
    "name": "ipython",
    "version": 3
   },
   "file_extension": ".py",
   "mimetype": "text/x-python",
   "name": "python",
   "nbconvert_exporter": "python",
   "pygments_lexer": "ipython3",
   "version": "3.10.12"
  }
 },
 "nbformat": 4,
 "nbformat_minor": 2
}
